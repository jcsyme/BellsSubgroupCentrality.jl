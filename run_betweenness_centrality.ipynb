{
 "cells": [
  {
   "cell_type": "code",
   "execution_count": 1,
   "id": "4b2ec467-2c76-4c52-8a4c-0dcd16bba2fa",
   "metadata": {},
   "outputs": [],
   "source": [
    "#### reloads modules automatically - GREAT INCLUSION\n",
    "using Revise\n",
    "\n",
    "### !! IMPORTANT!! NEED THIS LINE TO FIND CUSTOM MODULES\n",
    "!(pwd() in LOAD_PATH) ? push!(LOAD_PATH, pwd()) : nothing\n",
    "\n",
    "using BenchmarkTools\n",
    "using CSV\n",
    "using DataFrames\n",
    "using Distributed\n",
    "\n",
    "\n",
    "#(nprocs() == 1) && addprocs(10)\n",
    "\n",
    "@everywhere using DistributedArrays\n",
    "@everywhere using Graphs\n",
    "@everywhere using LinearAlgebra\n",
    "using Plots\n",
    "using Random\n",
    "using SharedArrays\n",
    "@everywhere using SparseArrays\n",
    "using Suppressor\n",
    "\n",
    "\n",
    "\n",
    "# load IterativeHeaps\n",
    "#using Pkg\n",
    "#Pkg.develop(path = \"/Users/jsyme/Documents/Projects/git_jbus/IterativeHeaps.jl\")\n",
    "using IterativeHeaps\n",
    "\n",
    "# load GraphDistanceAlgorithms\n",
    "#Pkg.develop(path = \"/Users/jsyme/Documents/Projects/git_jbus/GraphDistanceAlgorithms.jl\")\n",
    "using GraphDistanceAlgorithms\n",
    "\n",
    "# get the graph fragments package\n",
    "#Pkg.develop(path = \"/Users/jsyme/Documents/Projects/git_jbus/GraphFragments.jl/\")\n",
    "using GraphFragments\n",
    "\n",
    "# get the DiscreteGraphAlgorithms package\n",
    "#Pkg.develop(path = \"/Users/jsyme/Documents/Projects/git_jbus/DiscreteGraphAlgorithms.jl/\")\n",
    "using DiscreteGraphAlgorithms"
   ]
  },
  {
   "cell_type": "code",
   "execution_count": 62,
   "id": "da064e5b-6fb9-4d5d-9134-48c81942612d",
   "metadata": {},
   "outputs": [
    {
     "name": "stdout",
     "output_type": "stream",
     "text": [
      "  0.000591 seconds (662 allocations: 97.039 KiB)\n"
     ]
    }
   ],
   "source": [
    "# fp_krebs_out = \"/Users/jsyme/Documents/Projects/FY23/KPP_RIR/edge_lists/krebs_test.egl\"\n",
    "# graph_wrapper_krebs = read_egl(fp_krebs_out);\n",
    "\n",
    "fp_bell = \"./bell_example_fig_10.csv\"\n",
    "@time graph_wrapper_bell = read_egl(fp_bell; force_undirected = true);\n"
   ]
  },
  {
   "cell_type": "code",
   "execution_count": 482,
   "id": "a3bf57b0-c764-48e5-9af0-fdf3c50eb67d",
   "metadata": {},
   "outputs": [
    {
     "name": "stderr",
     "output_type": "stream",
     "text": [
      "\u001b[36m\u001b[1m[ \u001b[22m\u001b[39m\u001b[36m\u001b[1mInfo: \u001b[22m\u001b[39mFinished reading graph `finance_2`\n"
     ]
    }
   ],
   "source": [
    "dir_read = \"/Users/jsyme/Documents/Projects/FY23/KPP_RIR/edge_lists\"\n",
    "\n",
    "# get graph wrappers\n",
    "files = [x for x in readdir(dir_read) if endswith(x, \"tsv\")]\n",
    "dict_gws = Dict{Symbol, GraphWrapper}()\n",
    "\n",
    "for file in files[1:1]\n",
    "    fp = joinpath(dir_read, file)\n",
    "    key = Symbol(replace(file, \" hop(s).tsv\" => \"\", \" \" => \"_\"))\n",
    "    \n",
    "    dict_gws[key] = read_egl(\n",
    "        fp;\n",
    "        delim = \"\\t\",\n",
    "        force_undirected = true,\n",
    "        infer_weights = false,\n",
    "    )\n",
    "    \n",
    "    @info \"Finished reading graph `$(key)`\"\n",
    "end\n"
   ]
  },
  {
   "cell_type": "code",
   "execution_count": 150,
   "id": "063a0c1f-b486-4029-a107-6e62b6660fe7",
   "metadata": {},
   "outputs": [],
   "source": [
    "#dict_gws[:finance_2]"
   ]
  },
  {
   "cell_type": "code",
   "execution_count": 66,
   "id": "bd34ec65-8ae7-4a97-8fd4-e11b7ed0d39b",
   "metadata": {},
   "outputs": [
    {
     "data": {
      "text/plain": [
       "Graphs.DijkstraState{Int64, Int64}([0, 3, 17, 2, 20, 5, 5, 5, 5, 4  …  16, 5, 1, 14, 17, 14, 5, 17, 2, 12], [0, 4, 3, 5, 6, 7, 7, 7, 7, 6  …  4, 7, 1, 2, 3, 2, 7, 3, 5, 5], [Int64[], Int64[], Int64[], Int64[], Int64[], Int64[], Int64[], Int64[], Int64[], Int64[]  …  Int64[], Int64[], Int64[], Int64[], Int64[], Int64[], Int64[], Int64[], Int64[], Int64[]], [1.0, 1.0, 1.0, 1.0, 1.0, 1.0, 2.0, 1.0, 1.0, 1.0  …  1.0, 2.0, 1.0, 1.0, 1.0, 1.0, 1.0, 1.0, 1.0, 1.0], Int64[])"
      ]
     },
     "execution_count": 66,
     "metadata": {},
     "output_type": "execute_result"
    }
   ],
   "source": []
  },
  {
   "cell_type": "code",
   "execution_count": 154,
   "id": "a43ca41b-361e-4429-b41d-d412b9816c4c",
   "metadata": {},
   "outputs": [
    {
     "data": {
      "text/plain": [
       "50-element Vector{String}:\n",
       " \"(Korea) Daebong Shipping Company (2003)\"\n",
       " \"222 Shipping & Trading (2007)\"\n",
       " \"5th Machine Industry Bureau\"\n",
       " \"AMM Middle East General Trading\"\n",
       " \"AUSTRIA\"\n",
       " \"Abdul Qadeer Khan\"\n",
       " \"Above Energy Pty Ltd\"\n",
       " \"Above Engineering Pty Ltd\"\n",
       " \"Academy of National Defense Science\"\n",
       " \"Adnet International\"\n",
       " \"Adra missile base\"\n",
       " \"Advance Auto\"\n",
       " \"Advance KY Corporation\"\n",
       " ⋮\n",
       " \"BANGLADESH\"\n",
       " \"BARBADOS\"\n",
       " \"BELARUS\"\n",
       " \"BOLIVIA\"\n",
       " \"BOTSWANA\"\n",
       " \"BRAZIL\"\n",
       " \"BRITISH VIRGIN ISLANDS\"\n",
       " \"Baek Ma Kang\"\n",
       " \"Baek Sa bong\"\n",
       " \"Bai Mei 8\"\n",
       " \"Baili Shipping and Trading Limited\"\n",
       " \"Banco Commerciale Lugano\""
      ]
     },
     "execution_count": 154,
     "metadata": {},
     "output_type": "execute_result"
    }
   ],
   "source": []
  },
  {
   "cell_type": "code",
   "execution_count": 161,
   "id": "e9f3ea53-3097-4849-bcf5-5ac6df87aef7",
   "metadata": {},
   "outputs": [
    {
     "name": "stdout",
     "output_type": "stream",
     "text": [
      "  0.000644 seconds (1.90 k allocations: 291.484 KiB)\n"
     ]
    }
   ],
   "source": [
    "# indices of groups that we're interested in \n",
    "gw = dict_gws[:finance_2]#graph_wrapper_bell\n",
    "group = gw.vertex_names[1:50]#string.([5, 6, 8, 9, 10, 11, 12, 13])\n",
    "\n",
    "\n",
    "\n",
    "\n",
    "inds_group = findall(x -> (x in group), gw.vertex_names);\n",
    "\n",
    "\n",
    "# get the source (can iterate over V_S)\n",
    "vertex = 1\n",
    "@time state = dijkstra_shortest_paths(gw.graph, vertex; allpaths = true, )\n",
    "\n",
    "# vector of numerators and denominators\n",
    "vec_nums = zeros(Float64, gw.dims[1])\n",
    "vec_denom = length.(state.predecessors)\n",
    "vec_onpath = zeros(Int64, gw.dims[1])\n",
    "\n",
    "# iterate over each other vertex - j is the target vertex, pred are the predecessors to that vertex; at j == i, length(pred) == 0\n",
    "for (j, pred) in enumerate(state.predecessors)\n",
    "    \n",
    "    # iterate over predecessors\n",
    "    for k in pred\n",
    "        \n",
    "        it = 1 \n",
    "       \n",
    "    end\n",
    "end\n",
    "\n"
   ]
  },
  {
   "cell_type": "code",
   "execution_count": 427,
   "id": "c7240350-11c4-4ef1-81cf-59af1d380295",
   "metadata": {},
   "outputs": [
    {
     "data": {
      "text/plain": [
       "(21, 56)"
      ]
     },
     "execution_count": 427,
     "metadata": {},
     "output_type": "execute_result"
    }
   ],
   "source": [
    "#addprocs(4)\n",
    "graph_wrapper_bell.dims"
   ]
  },
  {
   "cell_type": "code",
   "execution_count": 253,
   "id": "9f842e75-b89a-4504-acad-f8293af3ff6e",
   "metadata": {},
   "outputs": [
    {
     "name": "stdout",
     "output_type": "stream",
     "text": [
      "search: \u001b[0m\u001b[1mr\u001b[22m\u001b[0m\u001b[1me\u001b[22m\u001b[0m\u001b[1mm\u001b[22m\u001b[0m\u001b[1mo\u001b[22m\u001b[0m\u001b[1mt\u001b[22m\u001b[0m\u001b[1me\u001b[22m\u001b[0m\u001b[1mc\u001b[22m\u001b[0m\u001b[1ma\u001b[22m\u001b[0m\u001b[1ml\u001b[22m\u001b[0m\u001b[1ml\u001b[22m\u001b[0m\u001b[1m_\u001b[22m\u001b[0m\u001b[1mf\u001b[22m\u001b[0m\u001b[1me\u001b[22m\u001b[0m\u001b[1mt\u001b[22m\u001b[0m\u001b[1mc\u001b[22m\u001b[0m\u001b[1mh\u001b[22m \u001b[0m\u001b[1mr\u001b[22m\u001b[0m\u001b[1me\u001b[22m\u001b[0m\u001b[1mm\u001b[22m\u001b[0m\u001b[1mo\u001b[22m\u001b[0m\u001b[1mt\u001b[22m\u001b[0m\u001b[1me\u001b[22m\u001b[0m\u001b[1mc\u001b[22m\u001b[0m\u001b[1ma\u001b[22m\u001b[0m\u001b[1ml\u001b[22m\u001b[0m\u001b[1ml\u001b[22m\u001b[0m\u001b[1m_\u001b[22mwait\n",
      "\n"
     ]
    },
    {
     "data": {
      "text/latex": [
       "\\begin{verbatim}\n",
       "remotecall_fetch(f, id::Integer, args...; kwargs...)\n",
       "\\end{verbatim}\n",
       "Perform \\texttt{fetch(remotecall(...))} in one message. Keyword arguments, if any, are passed through to \\texttt{f}. Any remote exceptions are captured in a \\href{@ref}{\\texttt{RemoteException}} and thrown.\n",
       "\n",
       "See also \\href{@ref}{\\texttt{fetch}} and \\href{@ref}{\\texttt{remotecall}}.\n",
       "\n",
       "\\section{Examples}\n",
       "\\begin{verbatim}\n",
       "$ julia -p 2\n",
       "\n",
       "julia> remotecall_fetch(sqrt, 2, 4)\n",
       "2.0\n",
       "\n",
       "julia> remotecall_fetch(sqrt, 2, -4)\n",
       "ERROR: On worker 2:\n",
       "DomainError with -4.0:\n",
       "sqrt was called with a negative real argument but will only return a complex result if called with a complex argument. Try sqrt(Complex(x)).\n",
       "...\n",
       "\\end{verbatim}\n",
       "\\rule{\\textwidth}{1pt}\n",
       "\\begin{verbatim}\n",
       "remotecall_fetch(f, pool::AbstractWorkerPool, args...; kwargs...) -> result\n",
       "\\end{verbatim}\n",
       "\\href{@ref}{\\texttt{WorkerPool}} variant of \\texttt{remotecall\\_fetch(f, pid, ....)}. Waits for and takes a free worker from \\texttt{pool} and performs a \\texttt{remotecall\\_fetch} on it.\n",
       "\n",
       "\\section{Examples}\n",
       "\\begin{verbatim}\n",
       "$ julia -p 3\n",
       "\n",
       "julia> wp = WorkerPool([2, 3]);\n",
       "\n",
       "julia> A = rand(3000);\n",
       "\n",
       "julia> remotecall_fetch(maximum, wp, A)\n",
       "0.9995177101692958\n",
       "\\end{verbatim}\n"
      ],
      "text/markdown": [
       "```\n",
       "remotecall_fetch(f, id::Integer, args...; kwargs...)\n",
       "```\n",
       "\n",
       "Perform `fetch(remotecall(...))` in one message. Keyword arguments, if any, are passed through to `f`. Any remote exceptions are captured in a [`RemoteException`](@ref) and thrown.\n",
       "\n",
       "See also [`fetch`](@ref) and [`remotecall`](@ref).\n",
       "\n",
       "# Examples\n",
       "\n",
       "```julia-repl\n",
       "$ julia -p 2\n",
       "\n",
       "julia> remotecall_fetch(sqrt, 2, 4)\n",
       "2.0\n",
       "\n",
       "julia> remotecall_fetch(sqrt, 2, -4)\n",
       "ERROR: On worker 2:\n",
       "DomainError with -4.0:\n",
       "sqrt was called with a negative real argument but will only return a complex result if called with a complex argument. Try sqrt(Complex(x)).\n",
       "...\n",
       "```\n",
       "\n",
       "---\n",
       "\n",
       "```\n",
       "remotecall_fetch(f, pool::AbstractWorkerPool, args...; kwargs...) -> result\n",
       "```\n",
       "\n",
       "[`WorkerPool`](@ref) variant of `remotecall_fetch(f, pid, ....)`. Waits for and takes a free worker from `pool` and performs a `remotecall_fetch` on it.\n",
       "\n",
       "# Examples\n",
       "\n",
       "```julia-repl\n",
       "$ julia -p 3\n",
       "\n",
       "julia> wp = WorkerPool([2, 3]);\n",
       "\n",
       "julia> A = rand(3000);\n",
       "\n",
       "julia> remotecall_fetch(maximum, wp, A)\n",
       "0.9995177101692958\n",
       "```\n"
      ],
      "text/plain": [
       "\u001b[36m  remotecall_fetch(f, id::Integer, args...; kwargs...)\u001b[39m\n",
       "\n",
       "  Perform \u001b[36mfetch(remotecall(...))\u001b[39m in one message. Keyword arguments, if any,\n",
       "  are passed through to \u001b[36mf\u001b[39m. Any remote exceptions are captured in a\n",
       "  \u001b[36mRemoteException\u001b[39m and thrown.\n",
       "\n",
       "  See also \u001b[36mfetch\u001b[39m and \u001b[36mremotecall\u001b[39m.\n",
       "\n",
       "\u001b[1m  Examples\u001b[22m\n",
       "\u001b[1m  ≡≡≡≡≡≡≡≡\u001b[22m\n",
       "\n",
       "\u001b[36m  $ julia -p 2\u001b[39m\n",
       "\u001b[36m  \u001b[39m\n",
       "\u001b[36m  julia> remotecall_fetch(sqrt, 2, 4)\u001b[39m\n",
       "\u001b[36m  2.0\u001b[39m\n",
       "\u001b[36m  \u001b[39m\n",
       "\u001b[36m  julia> remotecall_fetch(sqrt, 2, -4)\u001b[39m\n",
       "\u001b[36m  ERROR: On worker 2:\u001b[39m\n",
       "\u001b[36m  DomainError with -4.0:\u001b[39m\n",
       "\u001b[36m  sqrt was called with a negative real argument but will only return a complex result if called with a complex argument. Try sqrt(Complex(x)).\u001b[39m\n",
       "\u001b[36m  ...\u001b[39m\n",
       "\n",
       "  ────────────────────────────────────────────────────────────────────────────\n",
       "\n",
       "\u001b[36m  remotecall_fetch(f, pool::AbstractWorkerPool, args...; kwargs...) -> result\u001b[39m\n",
       "\n",
       "  \u001b[36mWorkerPool\u001b[39m variant of \u001b[36mremotecall_fetch(f, pid, ....)\u001b[39m. Waits for and takes a\n",
       "  free worker from \u001b[36mpool\u001b[39m and performs a \u001b[36mremotecall_fetch\u001b[39m on it.\n",
       "\n",
       "\u001b[1m  Examples\u001b[22m\n",
       "\u001b[1m  ≡≡≡≡≡≡≡≡\u001b[22m\n",
       "\n",
       "\u001b[36m  $ julia -p 3\u001b[39m\n",
       "\u001b[36m  \u001b[39m\n",
       "\u001b[36m  julia> wp = WorkerPool([2, 3]);\u001b[39m\n",
       "\u001b[36m  \u001b[39m\n",
       "\u001b[36m  julia> A = rand(3000);\u001b[39m\n",
       "\u001b[36m  \u001b[39m\n",
       "\u001b[36m  julia> remotecall_fetch(maximum, wp, A)\u001b[39m\n",
       "\u001b[36m  0.9995177101692958\u001b[39m"
      ]
     },
     "execution_count": 253,
     "metadata": {},
     "output_type": "execute_result"
    }
   ],
   "source": [
    "?remotecall_fetch"
   ]
  },
  {
   "cell_type": "code",
   "execution_count": 255,
   "id": "fefa92d6-badc-4f38-a9f6-f6fa84a2a58e",
   "metadata": {},
   "outputs": [],
   "source": [
    "@everywhere dict_path = Dict()"
   ]
  },
  {
   "cell_type": "code",
   "execution_count": 281,
   "id": "58a8aee3-25b9-4086-8a4c-94f4560c2f66",
   "metadata": {},
   "outputs": [],
   "source": [
    "nprocs()"
   ]
  },
  {
   "cell_type": "code",
   "execution_count": 277,
   "id": "aa5059ca-6b27-4e8a-829f-0f94a3f1b6e6",
   "metadata": {},
   "outputs": [
    {
     "data": {
      "text/plain": [
       "Dict{Any, Any} with 2 entries:\n",
       "  \"test\"  => 2\n",
       "  \"sum_2\" => 2"
      ]
     },
     "execution_count": 277,
     "metadata": {},
     "output_type": "execute_result"
    }
   ],
   "source": [
    "remotecall_fetch(\n",
    "    () -> (push!(dict_path, \"sum_$(myid())\" => 2)),\n",
    "    2\n",
    ")"
   ]
  },
  {
   "cell_type": "code",
   "execution_count": 483,
   "id": "0d4c1c64-c687-4dad-8071-e2ea49c79b97",
   "metadata": {
    "tags": []
   },
   "outputs": [
    {
     "data": {
      "text/plain": [
       "betweenness_centrality_bells (generic function with 1 method)"
      ]
     },
     "execution_count": 483,
     "metadata": {},
     "output_type": "execute_result"
    }
   ],
   "source": [
    "\"\"\"\n",
    "Recursive function to retrieve # of paths + number of paths on which each \n",
    "    vertex on the tree sits on the path (for betweenness centrality)\n",
    "\"\"\"\n",
    "function get_path_counts(\n",
    "    states::Vector, \n",
    "    node::Vector,\n",
    "    dict_paths::Dict,\n",
    "    dict_total::Dict,\n",
    "    parent::Vector{Int64},\n",
    "    parents::Vector,\n",
    ")\n",
    "    # here is where you want to check the node's name against your list of\n",
    "    # 'nodes to shout out about'\n",
    "    \n",
    "    (length(node) == 0) && (return 1)\n",
    "    \n",
    "    \n",
    "    for (i, child) in enumerate(node)\n",
    "        \n",
    "        #push!(parents, parent...)\n",
    "        parents = parent\n",
    "        \n",
    "        # add to paths\n",
    "        if child in keys(dict_paths)\n",
    "            dict_paths[child] += 1\n",
    "        else\n",
    "            dict_paths[child] = max(length(states[child]), 1)\n",
    "        end\n",
    "\n",
    "        \n",
    "        #print(\"i = $(i)\\nchild = $(child)\\nnext = $(states[child])\\n\")\n",
    "        val = get_path_counts(\n",
    "                states, \n",
    "                states[child], \n",
    "                dict_paths, \n",
    "                dict_total, \n",
    "                [parent; [child]],\n",
    "                parents,\n",
    "        )\n",
    "            \n",
    "        dict_total[\"sum\"] += val\n",
    "        \n",
    "        (val == 1) && empty!(parents) # println(parents);\n",
    "        \n",
    "        #(val == 1) && (empty!(parents))\n",
    "        #println(\"$(i) done.\\n\\n\")\n",
    "    end\n",
    "    \n",
    "    return 0\n",
    "end\n",
    "\n",
    "\n",
    "\n",
    "\"\"\"\n",
    "\n",
    "# Constructs\n",
    "\n",
    "get_paths(\n",
    "    states::Vector, \n",
    "    node::Vector,\n",
    "    parent::Vector{Int64},\n",
    "    parents::Vector,\n",
    "    paths::Vector{Int64},\n",
    ")\n",
    "\n",
    "\n",
    "##  Function Arguments\n",
    "\n",
    "\n",
    "##  Keyword Arguments\n",
    "\n",
    "\"\"\"\n",
    "function get_paths(\n",
    "    states::Vector{Vector{Int64}}, \n",
    "    node::Vector{Int64},\n",
    "    parent::Vector{Int64},\n",
    "    parents::Vector{Int64},\n",
    "    paths::Vector{Vector{Int64}},\n",
    ")\n",
    "    # here is where you want to check the node's name against your list of\n",
    "    # 'nodes to shout out about'\n",
    "    \n",
    "    (length(node) == 0) && (return 1)\n",
    "    \n",
    "    \n",
    "    for (i, child) in enumerate(node)\n",
    "        \n",
    "        #push!(parents, parent...)\n",
    "        parents = parent\n",
    "        \n",
    "        #print(\"i = $(i)\\nchild = $(child)\\nnext = $(states[child])\\n\")\n",
    "        val = get_paths(\n",
    "                states, \n",
    "                states[child], \n",
    "                [parent; [child]],\n",
    "                parents,\n",
    "                paths,\n",
    "        )\n",
    "            \n",
    "\n",
    "        (val == 1) && (push!(paths, parents[2:end]); empty!(parents))\n",
    "\n",
    "    end\n",
    "    \n",
    "    return 0\n",
    "end\n",
    "\n",
    "\n",
    "\n",
    "\"\"\"\n",
    "Using a vector of vectors of ordered paths, calculate the number of times\n",
    "    each vertex is on a path (keys in output dictionary)\n",
    "\"\"\"\n",
    "function get_path_counts_by_vertex(\n",
    "    vec_paths::Vector,\n",
    ")\n",
    "    dict_out = Dict()\n",
    "    \n",
    "    # iter\n",
    "    for (i, vec) in enumerate(vec_paths)\n",
    "\n",
    "        for el in vec\n",
    "            (el in keys(dict_out)) ? (dict_out[el] += 1) : (dict_out[el] = 1)\n",
    "        end\n",
    "    end\n",
    "    \n",
    "    return dict_out\n",
    "end\n",
    "\n",
    "\n",
    "\n",
    "\n",
    "\"\"\"\n",
    "Calculate the component betweenness centrality for paths starting at i and heading\n",
    "    to all other vertices\n",
    "\"\"\"\n",
    "function b_i!(\n",
    "    graph::AbstractGraph, # graph_wrapper_bell.graph\n",
    "    vertex::Int64,\n",
    "    vec_component::Vector{Float64};\n",
    "    vertices_target::Union{Vector{Int64}, Nothing} = nothing,\n",
    ")\n",
    "    \n",
    "    # initialize components\n",
    "    \n",
    "    # calculate shortest paths\n",
    "    state = dijkstra_shortest_paths(\n",
    "        graph, \n",
    "        vertex;\n",
    "        allpaths = true,\n",
    "    )\n",
    "    \n",
    "    vertices_target = isa(vertices_target, Nothing) ? collect(vertices(graph)) : vertices_target\n",
    "    \n",
    "    # iterate over predecessors \n",
    "    for j in vertices_target\n",
    "        \n",
    "        preds = state.predecessors[j]\n",
    "        \n",
    "        # skip if there is no path\n",
    "        (length(preds) == 0) && continue\n",
    "        \n",
    "        vec_paths = Vector{Vector{Int64}}()\n",
    "        vec_parents = Vector{Int64}()\n",
    "        \n",
    "        # get all paths\n",
    "        paths_all = get_paths(\n",
    "            state.predecessors, \n",
    "            preds,\n",
    "            [j],\n",
    "            vec_parents,\n",
    "            vec_paths,\n",
    "        )\n",
    "        \n",
    "        dict_counts = get_path_counts_by_vertex(vec_paths, )\n",
    "        \n",
    "        for (k, v) in dict_counts\n",
    "            vec_component[k] += v/state.pathcounts[j]\n",
    "        end\n",
    "    end\n",
    "    \n",
    "    return nothing\n",
    "end\n",
    "    \n",
    "\n",
    "\n",
    "\n",
    "\"\"\"\n",
    "Slow implementation of betweenness centrality that can be used to implment Bell's centrality.\n",
    "\n",
    "Specify groups using vertices_source and vertices_target\n",
    "\"\"\"\n",
    "function betweenness_centrality_bells(\n",
    "    graph::AbstractGraph;\n",
    "    vertices_source::Union{Vector{Int64}, Nothing} = nothing,\n",
    "    vertices_target::Union{Vector{Int64}, Nothing} = nothing,\n",
    ")\n",
    "    # get \n",
    "    vertices_source = isa(vertices_source, Nothing) ? collect(vertices(graph)) : vertices_source\n",
    "    vertices_target = isa(vertices_target, Nothing) ? collect(vertices(graph)) : vertices_target\n",
    "    vec_betweenness_centrality = zeros(Float64, nv(graph))\n",
    "\n",
    "    for i in vertices_source\n",
    "        b_i!(\n",
    "            graph,\n",
    "            i,\n",
    "            vec_betweenness_centrality;\n",
    "            vertices_target = vertices_target,\n",
    "        )\n",
    "    end\n",
    "\n",
    "    !is_directed(graph) && (vec_betweenness_centrality ./= 2)\n",
    "    \n",
    "    return vec_betweenness_centrality\n",
    "end\n",
    "\n",
    "\n",
    "\n"
   ]
  },
  {
   "cell_type": "code",
   "execution_count": null,
   "id": "7ec7fdd0-8f98-43c7-8b1e-7a8df85df134",
   "metadata": {},
   "outputs": [],
   "source": [
    "v = dijkstra_shortest_paths(dict_gws[:finance_2].graph, 195; allpaths = true).predecessors"
   ]
  },
  {
   "cell_type": "code",
   "execution_count": 493,
   "id": "23b8d2d4-4809-4326-a3a9-43d2683a6e13",
   "metadata": {},
   "outputs": [
    {
     "data": {
      "text/plain": [
       "1490-element Vector{Int64}:\n",
       "   51\n",
       "   52\n",
       "   53\n",
       "   54\n",
       "   55\n",
       "   56\n",
       "   57\n",
       "   58\n",
       "   59\n",
       "   60\n",
       "   61\n",
       "   62\n",
       "   63\n",
       "    ⋮\n",
       " 1529\n",
       " 1530\n",
       " 1531\n",
       " 1532\n",
       " 1533\n",
       " 1534\n",
       " 1535\n",
       " 1536\n",
       " 1537\n",
       " 1538\n",
       " 1539\n",
       " 1540"
      ]
     },
     "execution_count": 493,
     "metadata": {},
     "output_type": "execute_result"
    }
   ],
   "source": [
    "inds_out = sort(setdiff(vertices(dict_gws[:finance_2].graph), inds_group))"
   ]
  },
  {
   "cell_type": "code",
   "execution_count": 499,
   "id": "0f3dfaf9-efd0-4eb8-9cfa-3f110424137e",
   "metadata": {
    "tags": []
   },
   "outputs": [
    {
     "name": "stdout",
     "output_type": "stream",
     "text": [
      "  0.044425 seconds (269.36 k allocations: 23.716 MiB)\n"
     ]
    }
   ],
   "source": [
    "@time vertex_in = betweenness_centrality_bells(\n",
    "    dict_gws[:finance_2].graph,\n",
    "    vertices_source = inds_group,\n",
    "    vertices_target = inds_group,\n",
    ");"
   ]
  },
  {
   "cell_type": "code",
   "execution_count": 494,
   "id": "0a11af6e-3440-46cf-bbf6-0cd259db3463",
   "metadata": {
    "collapsed": true,
    "jupyter": {
     "outputs_hidden": true
    },
    "tags": []
   },
   "outputs": [
    {
     "name": "stdout",
     "output_type": "stream",
     "text": [
      "  8.522727 seconds (157.79 M allocations: 8.409 GiB, 7.63% gc time)\n"
     ]
    },
    {
     "data": {
      "text/plain": [
       "1540-element Vector{Float64}:\n",
       "    0.0\n",
       "    0.0\n",
       "    0.0\n",
       "  636.3752200173503\n",
       "  123.56609276460571\n",
       "    0.0\n",
       "    0.0\n",
       "    0.0\n",
       "    0.0\n",
       "    0.0\n",
       " 2050.3050259686875\n",
       "    0.0\n",
       "    0.0\n",
       "    ⋮\n",
       "  780.3453857653029\n",
       "  854.6854521932022\n",
       "    0.5\n",
       "  412.00848310784113\n",
       "    0.0\n",
       "  571.0994473829887\n",
       "    0.0\n",
       "    0.0\n",
       "    0.0\n",
       "    0.0\n",
       "    0.0\n",
       "    0.0"
      ]
     },
     "execution_count": 494,
     "metadata": {},
     "output_type": "execute_result"
    }
   ],
   "source": [
    "@time vertex_out = betweenness_centrality_bells(\n",
    "    dict_gws[:finance_2].graph,\n",
    "    vertices_source = inds_out,\n",
    "    vertices_target = inds_out,\n",
    ")"
   ]
  },
  {
   "cell_type": "code",
   "execution_count": 503,
   "id": "6aff81b3-17b8-4023-bd19-3d039aefa46c",
   "metadata": {
    "tags": []
   },
   "outputs": [
    {
     "name": "stdout",
     "output_type": "stream",
     "text": [
      "  0.296653 seconds (5.31 M allocations: 289.989 MiB, 7.32% gc time)\n"
     ]
    }
   ],
   "source": [
    "@time vertex_boundary = betweenness_centrality_bells(\n",
    "    dict_gws[:finance_2].graph,\n",
    "    vertices_source = inds_group,\n",
    "    vertices_target = inds_out,\n",
    ");"
   ]
  },
  {
   "cell_type": "code",
   "execution_count": 502,
   "id": "c4e25223-e904-400c-a5f1-6e7b3c8d22fd",
   "metadata": {
    "collapsed": true,
    "jupyter": {
     "outputs_hidden": true
    },
    "tags": []
   },
   "outputs": [
    {
     "name": "stdout",
     "output_type": "stream",
     "text": [
      "  1.119576 seconds (7.98 M allocations: 701.966 MiB, 5.33% gc time)\n"
     ]
    },
    {
     "data": {
      "text/plain": [
       "1540-element Vector{Float64}:\n",
       "   0.0\n",
       "   0.0\n",
       "   0.0\n",
       "  47.382339243391\n",
       "   1.932271432271431\n",
       "   0.0\n",
       "   0.0\n",
       "   0.0\n",
       "   0.0\n",
       "   0.0\n",
       "  35.05944366727536\n",
       "   0.0\n",
       "   0.0\n",
       "   ⋮\n",
       "  16.142511859149796\n",
       " 366.26323102217486\n",
       "   0.0\n",
       "   5.991517605488194\n",
       "   0.0\n",
       "   9.818660287081338\n",
       "   0.0\n",
       "   0.0\n",
       "   0.0\n",
       "   0.0\n",
       "   0.0\n",
       "   0.0"
      ]
     },
     "execution_count": 502,
     "metadata": {},
     "output_type": "execute_result"
    }
   ],
   "source": [
    "@time vertex_boundary2 = betweenness_centrality_bells(\n",
    "    dict_gws[:finance_2].graph,\n",
    "    vertices_source = inds_out,\n",
    "    vertices_target = inds_group,\n",
    ")"
   ]
  },
  {
   "cell_type": "code",
   "execution_count": 506,
   "id": "2d3ba45d-d671-4cb0-87e9-7819194f4e2e",
   "metadata": {},
   "outputs": [
    {
     "data": {
      "text/plain": [
       "1.360895112156868e-7"
      ]
     },
     "execution_count": 506,
     "metadata": {},
     "output_type": "execute_result"
    }
   ],
   "source": [
    "maximum(abs.(vertex_in + vertex_out + vertex_boundary + vertex_boundary2 - betweenness_centrality(dict_gws[:finance_2].graph; normalize = false)))"
   ]
  },
  {
   "cell_type": "code",
   "execution_count": null,
   "id": "8845be7e-771a-4929-bc85-dc84f454a6f9",
   "metadata": {},
   "outputs": [],
   "source": [
    "@time vertex_out = betweenness_centrality_bells(\n",
    "    dict_gws[:finance_2].graph,\n",
    "    vertices_source = inds_out,\n",
    "    vertices_target = inds_out,\n",
    ")"
   ]
  },
  {
   "cell_type": "code",
   "execution_count": 487,
   "id": "80ad2a31-3b34-4269-9b43-2ffad1dbd82b",
   "metadata": {},
   "outputs": [
    {
     "name": "stdout",
     "output_type": "stream",
     "text": [
      "  0.969436 seconds (2.93 M allocations: 483.011 MiB, 5.95% gc time)\n"
     ]
    },
    {
     "data": {
      "text/plain": [
       "1540-element Vector{Float64}:\n",
       "    0.0\n",
       "    0.0\n",
       "    0.0\n",
       "  732.8545538293175\n",
       "  127.43063562914858\n",
       "    0.0\n",
       "    0.0\n",
       "    0.0\n",
       "    0.0\n",
       "    0.0\n",
       " 2120.4239133030296\n",
       "    0.0\n",
       "    0.0\n",
       "    ⋮\n",
       "  812.630409483601\n",
       " 1610.603312653981\n",
       "    0.5\n",
       "  423.99151831881505\n",
       "    0.0\n",
       "  590.73676795715\n",
       "    0.0\n",
       "    0.0\n",
       "    0.0\n",
       "    0.0\n",
       "    0.0\n",
       "    0.0"
      ]
     },
     "execution_count": 487,
     "metadata": {},
     "output_type": "execute_result"
    }
   ],
   "source": [
    "@time betweenness_centrality(dict_gws[:finance_2].graph; normalize = false)"
   ]
  },
  {
   "cell_type": "code",
   "execution_count": 480,
   "id": "e2ad5291-7320-4fab-8cf6-129e87219c04",
   "metadata": {},
   "outputs": [
    {
     "data": {
      "text/plain": [
       "1-element Vector{String}:\n",
       " \"is_directed\""
      ]
     },
     "execution_count": 480,
     "metadata": {},
     "output_type": "execute_result"
    }
   ],
   "source": []
  },
  {
   "cell_type": "code",
   "execution_count": 420,
   "id": "4b3c7a39-4d59-4059-82fd-9b458e84af06",
   "metadata": {},
   "outputs": [
    {
     "data": {
      "text/plain": [
       "Int64[]"
      ]
     },
     "execution_count": 420,
     "metadata": {},
     "output_type": "execute_result"
    }
   ],
   "source": [
    "paths\n",
    "vec_p"
   ]
  },
  {
   "cell_type": "code",
   "execution_count": 359,
   "id": "c05bf36d-ac43-41ae-9d32-868848044e17",
   "metadata": {},
   "outputs": [
    {
     "name": "stdout",
     "output_type": "stream",
     "text": [
      "[356, 1372, 843, 195]\n",
      "[356, 437, 843, 195]\n",
      "[356, 718, 962, 195]\n",
      "[356, 718, 68, 195]\n",
      "[356, 1220, 261, 195]\n",
      "[356, 673, 778, 195]\n",
      "[356, 673, 1252, 195]\n",
      "[356, 673, 658, 195]\n",
      "[356, 358, 261, 195]\n",
      "[356, 1425, 1222, 195]\n",
      "[356, 325, 93, 195]\n",
      "[356, 360, 364, 195]\n",
      "  0.006592 seconds (1.63 k allocations: 42.594 KiB)\n"
     ]
    }
   ],
   "source": [
    "@time get_path_counts(\n",
    "    state.predecessors, \n",
    "    state.predecessors[356],\n",
    "    path_counts,\n",
    "    dict_total_paths,\n",
    "    [356],\n",
    "    vec_p\n",
    ");\n"
   ]
  },
  {
   "cell_type": "code",
   "execution_count": 305,
   "id": "3b0f3667-7005-44a3-8a9a-75887682f313",
   "metadata": {},
   "outputs": [
    {
     "data": {
      "text/plain": [
       "Dict{Any, Any} with 21 entries:\n",
       "  360  => 1\n",
       "  843  => 2\n",
       "  962  => 1\n",
       "  195  => 12\n",
       "  778  => 1\n",
       "  325  => 1\n",
       "  1    => 12\n",
       "  718  => 1\n",
       "  1425 => 1\n",
       "  1222 => 1\n",
       "  68   => 1\n",
       "  673  => 1\n",
       "  1252 => 1\n",
       "  1372 => 1\n",
       "  93   => 1\n",
       "  364  => 1\n",
       "  261  => 2\n",
       "  358  => 1\n",
       "  1220 => 1\n",
       "  437  => 1\n",
       "  658  => 1"
      ]
     },
     "execution_count": 305,
     "metadata": {},
     "output_type": "execute_result"
    }
   ],
   "source": [
    "# p1: 356 -> 1372 -> 843 -> 195 -> 1\n",
    "# p2: 356 -> 437 -> 843 -> 195 -> 1\n",
    "# p3: 356 -> 718 -> 962 -> 195 -> 1\n",
    "# p4: 356 -> 718 -> 68 -> 195 -> 1\n",
    "# p5: 356 -> 1220 -> 261 -> 195 -> 1\n",
    "# p6: 356 -> 673 -> 778 -> 195 -> 1\n",
    "# p7: 356 -> 673 -> 1252 -> 195 -> 1\n",
    "# p8: 356 -> 673 -> 658 -> 195 -> 1\n",
    "# p9: 356 -> 358 -> 261 -> 195 -> 1\n",
    "# p10: 356 -> 1425 -> 1222 -> 195 -> 1\n",
    "# p11: 356 -> 325 -> 93 -> 195 -> 1\n",
    "# p12: 356 -> 360 -> 364 -> 195 -> 1\n",
    "path_counts\n",
    "\n",
    "#dict_total_paths\n",
    "\n",
    "\n"
   ]
  },
  {
   "cell_type": "code",
   "execution_count": 286,
   "id": "cacf2c2b-f2cd-4802-be6c-ae0cfcaae0bd",
   "metadata": {},
   "outputs": [
    {
     "data": {
      "text/plain": [
       "3-element Vector{Int64}:\n",
       "  778\n",
       " 1252\n",
       "  658"
      ]
     },
     "execution_count": 286,
     "metadata": {},
     "output_type": "execute_result"
    }
   ],
   "source": [
    "#findall(x -> (x == 9), length.(state.predecessors))#[1530]\n",
    "a = state.predecessors[673]\n",
    "a\n"
   ]
  },
  {
   "cell_type": "code",
   "execution_count": 240,
   "id": "530c8bcd-0974-473c-8526-5d3ea976f97b",
   "metadata": {},
   "outputs": [
    {
     "data": {
      "text/plain": [
       "1-element Vector{Int64}:\n",
       " 261"
      ]
     },
     "execution_count": 240,
     "metadata": {},
     "output_type": "execute_result"
    }
   ],
   "source": [
    "state.predecessors[a[6]]"
   ]
  },
  {
   "cell_type": "code",
   "execution_count": 239,
   "id": "e7fdb0e4-33f2-4add-9697-fd257044f935",
   "metadata": {},
   "outputs": [
    {
     "data": {
      "text/plain": [
       "1-element Vector{Int64}:\n",
       " 195"
      ]
     },
     "execution_count": 239,
     "metadata": {},
     "output_type": "execute_result"
    }
   ],
   "source": [
    "state.predecessors[261]"
   ]
  },
  {
   "cell_type": "code",
   "execution_count": 188,
   "id": "63d57b9c-a111-4be0-9b47-c2c1e7d216a3",
   "metadata": {},
   "outputs": [
    {
     "data": {
      "text/plain": [
       "1-element Vector{Int64}:\n",
       " 195"
      ]
     },
     "execution_count": 188,
     "metadata": {},
     "output_type": "execute_result"
    }
   ],
   "source": [
    "state.predecessors[93]"
   ]
  },
  {
   "cell_type": "code",
   "execution_count": 178,
   "id": "8eaf2855-2921-41d0-86a7-f77dac29efba",
   "metadata": {},
   "outputs": [
    {
     "data": {
      "text/plain": [
       "1-element Vector{Int64}:\n",
       " 1"
      ]
     },
     "execution_count": 178,
     "metadata": {},
     "output_type": "execute_result"
    }
   ],
   "source": [
    "state.predecessors[195]"
   ]
  },
  {
   "cell_type": "code",
   "execution_count": 142,
   "id": "6bd3c96a-6afe-4427-901a-cf14f5bda88f",
   "metadata": {},
   "outputs": [
    {
     "name": "stdout",
     "output_type": "stream",
     "text": [
      "  0.000046 seconds\n"
     ]
    },
    {
     "data": {
      "text/plain": [
       "0"
      ]
     },
     "execution_count": 142,
     "metadata": {},
     "output_type": "execute_result"
    }
   ],
   "source": [
    "@time walk_tree(\n",
    "    state.predecessors, \n",
    "    state.predecessors[7], \n",
    "    paths,\n",
    "    total,\n",
    ")"
   ]
  },
  {
   "cell_type": "code",
   "execution_count": 85,
   "id": "aa8895d6-fbbc-4619-8a03-1e877756a432",
   "metadata": {},
   "outputs": [
    {
     "ename": "LoadError",
     "evalue": "MethodError: no method matching getindex(::typeof(this_one), ::Vector{Int64})",
     "output_type": "error",
     "traceback": [
      "MethodError: no method matching getindex(::typeof(this_one), ::Vector{Int64})",
      "",
      "Stacktrace:",
      " [1] this_one(vec::Vector{Vector{Int64}}, i0::Int64)",
      "   @ Main ./In[85]:4",
      " [2] top-level scope",
      "   @ In[85]:10"
     ]
    }
   ],
   "source": [
    "function this_one(vec::Vector, i0::Int64)\n",
    "    v = []\n",
    "    out = vec[i0]\n",
    "    push!(v, this_one[out])\n",
    "    \n",
    "    return v\n",
    "end\n",
    "\n",
    "\n",
    "this_one(state.predecessors, 1)"
   ]
  },
  {
   "cell_type": "code",
   "execution_count": 24,
   "id": "6e87edfe-62d5-4d06-bca4-cb4923175c6d",
   "metadata": {},
   "outputs": [
    {
     "data": {
      "text/plain": [
       "21-element Vector{String}:\n",
       " \"1\"\n",
       " \"10\"\n",
       " \"11\"\n",
       " \"12\"\n",
       " \"13\"\n",
       " \"14\"\n",
       " \"15\"\n",
       " \"16\"\n",
       " \"17\"\n",
       " \"18\"\n",
       " \"19\"\n",
       " \"2\"\n",
       " \"20\"\n",
       " \"3\"\n",
       " \"4\"\n",
       " \"5\"\n",
       " \"6\"\n",
       " \"7\"\n",
       " \"8\"\n",
       " \"9\"\n",
       " \"\\ufeff1\""
      ]
     },
     "execution_count": 24,
     "metadata": {},
     "output_type": "execute_result"
    }
   ],
   "source": [
    "graph_wrapper_bell.vertex_names"
   ]
  },
  {
   "cell_type": "code",
   "execution_count": null,
   "id": "bfea980e-5c85-4d4a-bebe-44cb9657fbf2",
   "metadata": {},
   "outputs": [],
   "source": []
  }
 ],
 "metadata": {
  "kernelspec": {
   "display_name": "Julia 1.10.3",
   "language": "julia",
   "name": "julia-1.10"
  },
  "language_info": {
   "file_extension": ".jl",
   "mimetype": "application/julia",
   "name": "julia",
   "version": "1.10.3"
  }
 },
 "nbformat": 4,
 "nbformat_minor": 5
}
