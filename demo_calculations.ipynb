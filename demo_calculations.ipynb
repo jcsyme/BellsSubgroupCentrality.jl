{
 "cells": [
  {
   "cell_type": "markdown",
   "id": "3833255b-0055-4cdc-bdfd-f4b916734417",
   "metadata": {},
   "source": [
    "# Calculating Bell's Subgroup Centrality\n",
    "\n",
    "- This notebook demonstrates how to calculate subgroup centrality using the BellsSubgroupCentrality module.\n",
    "- This notebook steps through the Dolphin example shown in [Jocelyn R. Bell's 2014 paper](https://www.cambridge.org/core/journals/network-science/article/abs/subgroup-centrality-measures/875D8E7EBF4E33008CB45C6A417C3C66):\n",
    "    - Bell, JR. Subgroup centrality measures. Network Science. 2014;2(2):277-297. doi:10.1017/nws.2014.15\n",
    "- We reproduce calculations for Dolphin subgroup centrality measures, including **Overall (O)**, **Global (G)**, **Local (L)** and **Boundary (B)**\n",
    "    - The dictionary `dict_males` maps names to vertex indices based on Figure 4, while vertex indices for the group of males are contained in `males` (Julia uses 1-based indexing, hence the addition of 1); vertex indices for non-males are stored in `not_males`\n",
    "    - Compare results to those shown in **Appendix B**\n",
    "        - Note that the table in Appendix B only shows results for male dolphins\n",
    "        - In the example calculations below, results are restricted to `[males]` to facilitate easy comparison"
   ]
  },
  {
   "cell_type": "markdown",
   "id": "6a81c0a5-edad-4e57-9f8c-44f87477cf7e",
   "metadata": {},
   "source": [
    "##  Start by loading packages"
   ]
  },
  {
   "cell_type": "code",
   "execution_count": 1,
   "id": "f02b0048-5cf9-46f1-8274-21c913bb1bd5",
   "metadata": {},
   "outputs": [
    {
     "name": "stderr",
     "output_type": "stream",
     "text": [
      "\u001b[32m\u001b[1m  Activating\u001b[22m\u001b[39m project at `~/git/BellsSubgroupCentrality.jl`\n"
     ]
    },
    {
     "data": {
      "text/plain": [
       "\"/Users/usuario/git/BellsSubgroupCentrality.jl\""
      ]
     },
     "execution_count": 1,
     "metadata": {},
     "output_type": "execute_result"
    }
   ],
   "source": [
    "# need these to read GML: https://github.com/JuliaGraphs/GraphIO.jl?tab=readme-ov-file\n",
    "using Pkg\n",
    "Pkg.activate(\".\")\n",
    "\n",
    "using Graphs\n",
    "using GraphIO\n",
    "using CodecZlib\n",
    "using ParserCombinator\n",
    "path_cur = @__DIR__\n"
   ]
  },
  {
   "cell_type": "markdown",
   "id": "c2b88c5d-06d6-4974-a6ab-0e3ea81c3f09",
   "metadata": {},
   "source": [
    "##  Load the graph using GML\n",
    "- load module into Main context in this in-repo example"
   ]
  },
  {
   "cell_type": "code",
   "execution_count": 2,
   "id": "5b472243-0480-4767-ba39-dd0f9c883b0c",
   "metadata": {},
   "outputs": [],
   "source": [
    "# read the module from src since we are in the directory\n",
    "include(joinpath(path_cur, \"src\", \"jl\"))\n",
    "using .BellsSubgroupCentrality # outside of this context use \"using BellsSubgroupCentrality\"\n",
    " \n",
    "\n",
    "graph = loadgraph(\n",
    "    joinpath(path_cur, \"ref\", \"lusseau_2003_dolphins.gml\"),\n",
    "    \"graph\", \n",
    "    GraphIO.GML.GMLFormat()\n",
    ")\n",
    "\n",
    "\n",
    "dict_males = Dict(\n",
    "    \"Beak\" => 0,\n",
    "    \"Beescratch\" => 1,\n",
    "    \"Bumper\" => 2,\n",
    "    \"Cross\" => 4,\n",
    "    \"DN21\" => 6,\n",
    "    \"DN63\" => 7,\n",
    "    \"Feather\" => 9,\n",
    "    \"Fork\" => 12,\n",
    "    \"Gallatin\" => 13,\n",
    "    \"Haecksel\" => 15,\n",
    "    \"Jet\" => 17,\n",
    "    \"Jonah\" => 18,\n",
    "    \"Knit\" => 19,\n",
    "    \"MN23\" => 22,\n",
    "    \"MN60\" => 23,\n",
    "    \"MN83\" => 24,\n",
    "    \"MN105\" => 21,\n",
    "    \"Mus\" => 25,\n",
    "    \"Notch\" => 26,\n",
    "    \"Number1\" => 27,\n",
    "    \"Oscar\" => 28,\n",
    "    \"Patchback\" => 29,\n",
    "    \"PL\" => 30,\n",
    "    \"Quasi\" => 31,\n",
    "    \"SMN5\" => 35,\n",
    "    \"SN90\" => 41,\n",
    "    \"SN96\" => 42,\n",
    "    \"Thumper\" => 44,\n",
    "    \"Topless\" => 45,\n",
    "    \"Upbang\" => 54,\n",
    "    \"Web\" => 57,\n",
    "    \"Zig\" => 60,\n",
    "    \"Zipfel\" => 61,\n",
    ");\n",
    "\n",
    "males = sort(collect(values(dict_males)) .+ 1);\n",
    "not_males = setdiff(collect(vertices(graph)), males);\n",
    "\n",
    "\n"
   ]
  },
  {
   "cell_type": "markdown",
   "id": "496a91ee-29eb-4789-a996-c906c1b7c47d",
   "metadata": {},
   "source": [
    "# The module `BellsSubgroupCentrality` contains two key functions\n",
    "- `subgroup_centrality_bells`: Explicit calculation of Bell's Subgroup Centrality using source and target groups of vertices\n",
    "- `get_subgroup_centrality`: Calculation of Bell's Subgroup Centrality using an in-group and a type (wraps `subgroup_centrality_bells`:\n",
    "    - **Overall**\n",
    "    - **Boundary**\n",
    "    - **Global**\n",
    "    - **Local**"
   ]
  },
  {
   "cell_type": "markdown",
   "id": "69d4982e-00f9-4384-abd1-7e926869dfa6",
   "metadata": {},
   "source": [
    "# Calculate Centralities"
   ]
  },
  {
   "cell_type": "markdown",
   "id": "f1df4d9b-ed74-4a56-b568-061ece1f47c0",
   "metadata": {},
   "source": [
    "### Get the ``Overall Centrality`` (O)"
   ]
  },
  {
   "cell_type": "code",
   "execution_count": 3,
   "id": "36b63e08-cd4d-4793-9087-295933b32169",
   "metadata": {},
   "outputs": [
    {
     "data": {
      "text/plain": [
       "33-element Vector{Float64}:\n",
       "  34.92115107115109\n",
       " 390.383717025044\n",
       "  16.603246753246747\n",
       "   0.0\n",
       "  53.75174224826662\n",
       " 216.37667326297162\n",
       "  38.23671606171605\n",
       "   0.0\n",
       "  96.70878104280543\n",
       "  60.92476439748681\n",
       " 209.1692981353093\n",
       "  27.184466482027478\n",
       "  24.365341325341326\n",
       "   ⋮\n",
       " 119.918586968587\n",
       "  60.48234321234324\n",
       "   0.0\n",
       "   0.0\n",
       "  42.5504292264408\n",
       "  53.35905205905209\n",
       "  22.029184704184704\n",
       "  74.42690629154039\n",
       " 181.39261357724038\n",
       " 154.0945706859692\n",
       "   0.0\n",
       "  25.976818181818174"
      ]
     },
     "execution_count": 3,
     "metadata": {},
     "output_type": "execute_result"
    }
   ],
   "source": [
    "# use the explicit function\n",
    "centrality_overall = subgroup_centrality_bells(\n",
    "    graph,\n",
    ")\n",
    "\n",
    "# only look at males to compare with Appendx B\n",
    "centrality_overall[males]"
   ]
  },
  {
   "cell_type": "code",
   "execution_count": 4,
   "id": "d6c9c8c3-881b-4c36-b371-28282096ba01",
   "metadata": {},
   "outputs": [
    {
     "data": {
      "text/plain": [
       "33-element Vector{Float64}:\n",
       "  34.92115107115109\n",
       " 390.383717025044\n",
       "  16.603246753246747\n",
       "   0.0\n",
       "  53.75174224826662\n",
       " 216.37667326297162\n",
       "  38.23671606171605\n",
       "   0.0\n",
       "  96.70878104280543\n",
       "  60.92476439748681\n",
       " 209.1692981353093\n",
       "  27.184466482027478\n",
       "  24.365341325341326\n",
       "   ⋮\n",
       " 119.918586968587\n",
       "  60.48234321234324\n",
       "   0.0\n",
       "   0.0\n",
       "  42.5504292264408\n",
       "  53.35905205905209\n",
       "  22.029184704184704\n",
       "  74.42690629154039\n",
       " 181.39261357724038\n",
       " 154.0945706859692\n",
       "   0.0\n",
       "  25.976818181818174"
      ]
     },
     "execution_count": 4,
     "metadata": {},
     "output_type": "execute_result"
    }
   ],
   "source": [
    "# can also access using the shortcut function get_subgroup_centrality\n",
    "get_subgroup_centrality(\n",
    "    graph,\n",
    "    :overall,\n",
    "    males\n",
    ")[males]"
   ]
  },
  {
   "cell_type": "markdown",
   "id": "5096a895-b7f8-43bb-a317-994cafef1328",
   "metadata": {},
   "source": [
    "### Get the ``Local Centrality`` (L - in-group)"
   ]
  },
  {
   "cell_type": "code",
   "execution_count": 5,
   "id": "accf4c7b-89b3-4905-9407-2185677c5145",
   "metadata": {},
   "outputs": [
    {
     "data": {
      "text/plain": [
       "33-element Vector{Float64}:\n",
       "   3.702380952380952\n",
       " 142.493978985306\n",
       "   6.766666666666667\n",
       "   0.0\n",
       "   2.2644448234692134\n",
       "  78.64468580598424\n",
       "   9.170726495726498\n",
       "   0.0\n",
       "  25.42705166107605\n",
       "  14.097046282268664\n",
       "  93.97126283727435\n",
       "  10.954937677498652\n",
       "  13.741617826617825\n",
       "   ⋮\n",
       "  35.621836496836494\n",
       "  32.29374847374846\n",
       "   0.0\n",
       "   0.0\n",
       "  13.743192019203482\n",
       "  25.072305472305484\n",
       "   3.3507936507936513\n",
       "  21.719150158784316\n",
       "  58.60020043482741\n",
       "  11.261009802408651\n",
       "   0.0\n",
       "   2.4930158730158727"
      ]
     },
     "execution_count": 5,
     "metadata": {},
     "output_type": "execute_result"
    }
   ],
   "source": [
    "centrality_local = subgroup_centrality_bells(\n",
    "    graph,\n",
    "    vertices_source = males,\n",
    "    vertices_target = males,\n",
    ") \n",
    "\n",
    "# only look at males to compare with Appendx B\n",
    "centrality_local[males]"
   ]
  },
  {
   "cell_type": "code",
   "execution_count": 6,
   "id": "4bebbbab-dcee-4d42-a627-7a8bc3804fd6",
   "metadata": {},
   "outputs": [
    {
     "data": {
      "text/plain": [
       "33-element Vector{Float64}:\n",
       "   3.702380952380952\n",
       " 142.493978985306\n",
       "   6.766666666666667\n",
       "   0.0\n",
       "   2.2644448234692134\n",
       "  78.64468580598424\n",
       "   9.170726495726498\n",
       "   0.0\n",
       "  25.42705166107605\n",
       "  14.097046282268664\n",
       "  93.97126283727435\n",
       "  10.954937677498652\n",
       "  13.741617826617825\n",
       "   ⋮\n",
       "  35.621836496836494\n",
       "  32.29374847374846\n",
       "   0.0\n",
       "   0.0\n",
       "  13.743192019203482\n",
       "  25.072305472305484\n",
       "   3.3507936507936513\n",
       "  21.719150158784316\n",
       "  58.60020043482741\n",
       "  11.261009802408651\n",
       "   0.0\n",
       "   2.4930158730158727"
      ]
     },
     "execution_count": 6,
     "metadata": {},
     "output_type": "execute_result"
    }
   ],
   "source": [
    "# can also access using the shortcut function\n",
    "get_subgroup_centrality(\n",
    "    graph,\n",
    "    :local,\n",
    "    males\n",
    ")[males]"
   ]
  },
  {
   "cell_type": "markdown",
   "id": "52e45648-b50b-4423-9a2c-13324a7951eb",
   "metadata": {},
   "source": [
    "### Get the ``Global Centrality`` (G - out-group)"
   ]
  },
  {
   "cell_type": "code",
   "execution_count": 7,
   "id": "a52d2753-5dfa-4091-b1cb-582a62e99d52",
   "metadata": {},
   "outputs": [
    {
     "data": {
      "text/plain": [
       "33-element Vector{Float64}:\n",
       " 15.003113553113545\n",
       " 24.18778443778443\n",
       "  2.3000000000000003\n",
       "  0.0\n",
       " 22.77631257631257\n",
       " 22.627862415362426\n",
       "  9.088082750582753\n",
       "  0.0\n",
       " 21.771590909090918\n",
       " 16.36987179487179\n",
       " 10.409923409923401\n",
       "  3.0444444444444443\n",
       "  1.761584249084249\n",
       "  ⋮\n",
       " 25.64319291819292\n",
       "  3.523168498168498\n",
       "  0.0\n",
       "  0.0\n",
       "  6.084709734709734\n",
       "  4.110714285714286\n",
       "  5.3999999999999995\n",
       " 14.308608058608057\n",
       " 32.08259795759795\n",
       " 60.89677822177827\n",
       "  0.0\n",
       "  6.002777777777777"
      ]
     },
     "execution_count": 7,
     "metadata": {},
     "output_type": "execute_result"
    }
   ],
   "source": [
    "centrality_gloabl = subgroup_centrality_bells(\n",
    "    graph,\n",
    "    vertices_source = not_males,\n",
    "    vertices_target = not_males,\n",
    ") \n",
    "\n",
    "# only look at males to compare with Appendx B\n",
    "centrality_gloabl[males]"
   ]
  },
  {
   "cell_type": "code",
   "execution_count": 8,
   "id": "02bea524-c1b7-47b3-a693-b85661d09ea8",
   "metadata": {},
   "outputs": [
    {
     "data": {
      "text/plain": [
       "33-element Vector{Float64}:\n",
       " 15.003113553113545\n",
       " 24.18778443778443\n",
       "  2.3000000000000003\n",
       "  0.0\n",
       " 22.77631257631257\n",
       " 22.627862415362426\n",
       "  9.088082750582753\n",
       "  0.0\n",
       " 21.771590909090918\n",
       " 16.36987179487179\n",
       " 10.409923409923401\n",
       "  3.0444444444444443\n",
       "  1.761584249084249\n",
       "  ⋮\n",
       " 25.64319291819292\n",
       "  3.523168498168498\n",
       "  0.0\n",
       "  0.0\n",
       "  6.084709734709734\n",
       "  4.110714285714286\n",
       "  5.3999999999999995\n",
       " 14.308608058608057\n",
       " 32.08259795759795\n",
       " 60.89677822177827\n",
       "  0.0\n",
       "  6.002777777777777"
      ]
     },
     "execution_count": 8,
     "metadata": {},
     "output_type": "execute_result"
    }
   ],
   "source": [
    "# can also access using the shortcut function\n",
    "get_subgroup_centrality(\n",
    "    graph,\n",
    "    :global,\n",
    "    males\n",
    ")[males]"
   ]
  },
  {
   "cell_type": "markdown",
   "id": "cdd28852-3a1b-4f1f-b7a9-c93bef5e37bf",
   "metadata": {},
   "source": [
    "### Get the ``Boundary Centrality`` (B - between-group)"
   ]
  },
  {
   "cell_type": "code",
   "execution_count": 9,
   "id": "e4c16172-993e-45e7-ba0d-4a649c6630c4",
   "metadata": {},
   "outputs": [
    {
     "data": {
      "text/plain": [
       "33-element Vector{Float64}:\n",
       "  16.215656565656563\n",
       " 223.70195360195362\n",
       "   7.536580086580087\n",
       "   0.0\n",
       "  28.710984848484852\n",
       " 115.10412504162504\n",
       "  19.97790681540681\n",
       "   0.0\n",
       "  49.510138472638474\n",
       "  30.45784632034632\n",
       " 104.78811188811194\n",
       "  13.185084360084357\n",
       "   8.862139249639249\n",
       "   ⋮\n",
       "  58.65355755355756\n",
       "  24.665426240426235\n",
       "   0.0\n",
       "   0.0\n",
       "  22.722527472527457\n",
       "  24.17603230103229\n",
       "  13.27839105339105\n",
       "  38.39914807414807\n",
       "  90.70981518481517\n",
       "  81.9367826617827\n",
       "   0.0\n",
       "  17.48102453102453"
      ]
     },
     "execution_count": 9,
     "metadata": {},
     "output_type": "execute_result"
    }
   ],
   "source": [
    "# need to check for source->target + target->source for S != T\n",
    "# note that appears to be something out of order when compared to Appendix B table\n",
    "centrality_boundary = subgroup_centrality_bells(\n",
    "    graph,\n",
    "    vertices_source = males,\n",
    "    vertices_target = not_males,\n",
    ") .+ subgroup_centrality_bells(\n",
    "    graph,\n",
    "    vertices_source = not_males,\n",
    "    vertices_target = males,\n",
    ")\n",
    "\n",
    "# only look at males to compare with Appendx B\n",
    "centrality_boundary[males]"
   ]
  },
  {
   "cell_type": "code",
   "execution_count": 10,
   "id": "536284f3-36b8-4714-882c-9acdadf28ce0",
   "metadata": {},
   "outputs": [
    {
     "data": {
      "text/plain": [
       "33-element Vector{Float64}:\n",
       "  16.215656565656563\n",
       " 223.70195360195362\n",
       "   7.536580086580087\n",
       "   0.0\n",
       "  28.710984848484852\n",
       " 115.10412504162504\n",
       "  19.97790681540681\n",
       "   0.0\n",
       "  49.510138472638474\n",
       "  30.45784632034632\n",
       " 104.78811188811194\n",
       "  13.185084360084357\n",
       "   8.862139249639249\n",
       "   ⋮\n",
       "  58.65355755355756\n",
       "  24.665426240426235\n",
       "   0.0\n",
       "   0.0\n",
       "  22.722527472527457\n",
       "  24.17603230103229\n",
       "  13.27839105339105\n",
       "  38.39914807414807\n",
       "  90.70981518481517\n",
       "  81.9367826617827\n",
       "   0.0\n",
       "  17.48102453102453"
      ]
     },
     "execution_count": 10,
     "metadata": {},
     "output_type": "execute_result"
    }
   ],
   "source": [
    "# can also access using the shortcut function\n",
    "get_subgroup_centrality(\n",
    "    graph,\n",
    "    :boundary,\n",
    "    males\n",
    ")[males]"
   ]
  },
  {
   "cell_type": "code",
   "execution_count": null,
   "id": "67a020b5-94a5-4a0e-90a2-45869afe553a",
   "metadata": {},
   "outputs": [],
   "source": []
  }
 ],
 "metadata": {
  "kernelspec": {
   "display_name": "Julia 1.10.5",
   "language": "julia",
   "name": "julia-1.10"
  },
  "language_info": {
   "file_extension": ".jl",
   "mimetype": "application/julia",
   "name": "julia",
   "version": "1.10.5"
  }
 },
 "nbformat": 4,
 "nbformat_minor": 5
}
